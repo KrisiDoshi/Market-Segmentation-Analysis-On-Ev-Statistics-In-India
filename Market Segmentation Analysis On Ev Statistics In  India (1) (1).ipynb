{
 "cells": [
  {
   "cell_type": "markdown",
   "id": "dca3a01f",
   "metadata": {},
   "source": [
    "### Market Segmentation On Ev Statistics In India : "
   ]
  },
  {
   "cell_type": "markdown",
   "id": "dc920458",
   "metadata": {},
   "source": [
    "### By Krisi Doshi"
   ]
  },
  {
   "cell_type": "code",
   "execution_count": 106,
   "id": "3575ff76",
   "metadata": {},
   "outputs": [],
   "source": [
    "import pandas as pd\n",
    "import numpy as np\n",
    "import matplotlib.pyplot as plt\n",
    "import seaborn as sns\n",
    "from sklearn.preprocessing import LabelEncoder, StandardScaler\n",
    "from sklearn.preprocessing import StandardScaler\n",
    "from sklearn.cluster import KMeans\n",
    "from sklearn.decomposition import PCA\n",
    "import warnings\n",
    "warnings.filterwarnings('ignore')\n"
   ]
  },
  {
   "cell_type": "code",
   "execution_count": 107,
   "id": "1006b7d9",
   "metadata": {},
   "outputs": [
    {
     "data": {
      "text/html": [
       "<div>\n",
       "<style scoped>\n",
       "    .dataframe tbody tr th:only-of-type {\n",
       "        vertical-align: middle;\n",
       "    }\n",
       "\n",
       "    .dataframe tbody tr th {\n",
       "        vertical-align: top;\n",
       "    }\n",
       "\n",
       "    .dataframe thead th {\n",
       "        text-align: right;\n",
       "    }\n",
       "</style>\n",
       "<table border=\"1\" class=\"dataframe\">\n",
       "  <thead>\n",
       "    <tr style=\"text-align: right;\">\n",
       "      <th></th>\n",
       "      <th>Sr. No.</th>\n",
       "      <th>State Name</th>\n",
       "      <th>Total Electric Vehicle</th>\n",
       "      <th>Total Non-Electric Vehicle</th>\n",
       "      <th>Total</th>\n",
       "    </tr>\n",
       "  </thead>\n",
       "  <tbody>\n",
       "    <tr>\n",
       "      <th>0</th>\n",
       "      <td>1</td>\n",
       "      <td>Andaman &amp; Nicobar Island</td>\n",
       "      <td>162</td>\n",
       "      <td>1,46,945</td>\n",
       "      <td>1,47,107</td>\n",
       "    </tr>\n",
       "    <tr>\n",
       "      <th>1</th>\n",
       "      <td>2</td>\n",
       "      <td>Andra Pradesh</td>\n",
       "      <td>NaN</td>\n",
       "      <td>NaN</td>\n",
       "      <td>NaN</td>\n",
       "    </tr>\n",
       "    <tr>\n",
       "      <th>2</th>\n",
       "      <td>3</td>\n",
       "      <td>Arunachal Pradesh</td>\n",
       "      <td>20</td>\n",
       "      <td>2,52,965</td>\n",
       "      <td>2,52,985</td>\n",
       "    </tr>\n",
       "    <tr>\n",
       "      <th>3</th>\n",
       "      <td>4</td>\n",
       "      <td>Assam</td>\n",
       "      <td>64766</td>\n",
       "      <td>46,77,053</td>\n",
       "      <td>47,41,819</td>\n",
       "    </tr>\n",
       "    <tr>\n",
       "      <th>4</th>\n",
       "      <td>5</td>\n",
       "      <td>Bihar</td>\n",
       "      <td>83335</td>\n",
       "      <td>1,04,07,078</td>\n",
       "      <td>1,04,90,413</td>\n",
       "    </tr>\n",
       "    <tr>\n",
       "      <th>5</th>\n",
       "      <td>6</td>\n",
       "      <td>Chandigarh</td>\n",
       "      <td>2812</td>\n",
       "      <td>7,46,881</td>\n",
       "      <td>7,49,693</td>\n",
       "    </tr>\n",
       "    <tr>\n",
       "      <th>6</th>\n",
       "      <td>7</td>\n",
       "      <td>Chhattisgarh</td>\n",
       "      <td>20966</td>\n",
       "      <td>68,36,200</td>\n",
       "      <td>68,57,166</td>\n",
       "    </tr>\n",
       "    <tr>\n",
       "      <th>7</th>\n",
       "      <td>8</td>\n",
       "      <td>Delhi</td>\n",
       "      <td>1,56,393</td>\n",
       "      <td>76,85,600</td>\n",
       "      <td>78,41,993</td>\n",
       "    </tr>\n",
       "    <tr>\n",
       "      <th>8</th>\n",
       "      <td>9</td>\n",
       "      <td>Goa</td>\n",
       "      <td>3870</td>\n",
       "      <td>10,71,570</td>\n",
       "      <td>10,75,440</td>\n",
       "    </tr>\n",
       "    <tr>\n",
       "      <th>9</th>\n",
       "      <td>10</td>\n",
       "      <td>Gujarat</td>\n",
       "      <td>45272</td>\n",
       "      <td>2,06,05,484</td>\n",
       "      <td>2,06,50,756</td>\n",
       "    </tr>\n",
       "    <tr>\n",
       "      <th>10</th>\n",
       "      <td>11</td>\n",
       "      <td>Haryana</td>\n",
       "      <td>37035</td>\n",
       "      <td>1,07,78,270</td>\n",
       "      <td>1,08,15,305</td>\n",
       "    </tr>\n",
       "    <tr>\n",
       "      <th>11</th>\n",
       "      <td>12</td>\n",
       "      <td>Himachal Pradesh</td>\n",
       "      <td>1175</td>\n",
       "      <td>19,64,754</td>\n",
       "      <td>19,65,929</td>\n",
       "    </tr>\n",
       "    <tr>\n",
       "      <th>12</th>\n",
       "      <td>13</td>\n",
       "      <td>Jammu and Kashmir</td>\n",
       "      <td>2941</td>\n",
       "      <td>18,69,962</td>\n",
       "      <td>18,72,903</td>\n",
       "    </tr>\n",
       "    <tr>\n",
       "      <th>13</th>\n",
       "      <td>14</td>\n",
       "      <td>Jharkhand</td>\n",
       "      <td>16811</td>\n",
       "      <td>64,86,937</td>\n",
       "      <td>65,03,748</td>\n",
       "    </tr>\n",
       "    <tr>\n",
       "      <th>14</th>\n",
       "      <td>15</td>\n",
       "      <td>Karnataka</td>\n",
       "      <td>1,20,532</td>\n",
       "      <td>2,68,70,303</td>\n",
       "      <td>2,69,90,835</td>\n",
       "    </tr>\n",
       "    <tr>\n",
       "      <th>15</th>\n",
       "      <td>16</td>\n",
       "      <td>Kerala</td>\n",
       "      <td>30775</td>\n",
       "      <td>1,57,74,078</td>\n",
       "      <td>1,58,04,853</td>\n",
       "    </tr>\n",
       "    <tr>\n",
       "      <th>16</th>\n",
       "      <td>17</td>\n",
       "      <td>Ladakh</td>\n",
       "      <td>26</td>\n",
       "      <td>38302</td>\n",
       "      <td>38328</td>\n",
       "    </tr>\n",
       "    <tr>\n",
       "      <th>17</th>\n",
       "      <td>18</td>\n",
       "      <td>Lakshadweep</td>\n",
       "      <td>NaN</td>\n",
       "      <td>NaN</td>\n",
       "      <td>NaN</td>\n",
       "    </tr>\n",
       "    <tr>\n",
       "      <th>18</th>\n",
       "      <td>19</td>\n",
       "      <td>Madhya Pradesh</td>\n",
       "      <td>NaN</td>\n",
       "      <td>NaN</td>\n",
       "      <td>NaN</td>\n",
       "    </tr>\n",
       "    <tr>\n",
       "      <th>19</th>\n",
       "      <td>20</td>\n",
       "      <td>Maharashtra</td>\n",
       "      <td>1,16,646</td>\n",
       "      <td>3,10,58,990</td>\n",
       "      <td>3,11,75,636</td>\n",
       "    </tr>\n",
       "    <tr>\n",
       "      <th>20</th>\n",
       "      <td>21</td>\n",
       "      <td>Manipur</td>\n",
       "      <td>586</td>\n",
       "      <td>4,99,324</td>\n",
       "      <td>4,99,910</td>\n",
       "    </tr>\n",
       "    <tr>\n",
       "      <th>21</th>\n",
       "      <td>22</td>\n",
       "      <td>Meghalaya</td>\n",
       "      <td>49</td>\n",
       "      <td>4,59,001</td>\n",
       "      <td>4,59,050</td>\n",
       "    </tr>\n",
       "    <tr>\n",
       "      <th>22</th>\n",
       "      <td>23</td>\n",
       "      <td>Mizoram</td>\n",
       "      <td>21</td>\n",
       "      <td>3,15,626</td>\n",
       "      <td>3,15,647</td>\n",
       "    </tr>\n",
       "    <tr>\n",
       "      <th>23</th>\n",
       "      <td>24</td>\n",
       "      <td>Nagaland</td>\n",
       "      <td>58</td>\n",
       "      <td>3,39,129</td>\n",
       "      <td>3,39,187</td>\n",
       "    </tr>\n",
       "    <tr>\n",
       "      <th>24</th>\n",
       "      <td>25</td>\n",
       "      <td>Odisha</td>\n",
       "      <td>23371</td>\n",
       "      <td>98,45,073</td>\n",
       "      <td>98,68,444</td>\n",
       "    </tr>\n",
       "    <tr>\n",
       "      <th>25</th>\n",
       "      <td>26</td>\n",
       "      <td>Puducherry</td>\n",
       "      <td>2149</td>\n",
       "      <td>12,13,735</td>\n",
       "      <td>12,15,884</td>\n",
       "    </tr>\n",
       "    <tr>\n",
       "      <th>26</th>\n",
       "      <td>27</td>\n",
       "      <td>Punjab</td>\n",
       "      <td>14804</td>\n",
       "      <td>1,24,63,019</td>\n",
       "      <td>1,24,77,823</td>\n",
       "    </tr>\n",
       "    <tr>\n",
       "      <th>27</th>\n",
       "      <td>28</td>\n",
       "      <td>Rajasthan</td>\n",
       "      <td>81338</td>\n",
       "      <td>1,73,27,388</td>\n",
       "      <td>1,74,08,726</td>\n",
       "    </tr>\n",
       "    <tr>\n",
       "      <th>28</th>\n",
       "      <td>29</td>\n",
       "      <td>Sikkim</td>\n",
       "      <td>21</td>\n",
       "      <td>97189</td>\n",
       "      <td>97210</td>\n",
       "    </tr>\n",
       "    <tr>\n",
       "      <th>29</th>\n",
       "      <td>30</td>\n",
       "      <td>Tamil Nadu</td>\n",
       "      <td>82051</td>\n",
       "      <td>2,98,42,376</td>\n",
       "      <td>2,99,24,427</td>\n",
       "    </tr>\n",
       "    <tr>\n",
       "      <th>30</th>\n",
       "      <td>31</td>\n",
       "      <td>Telangana</td>\n",
       "      <td>NaN</td>\n",
       "      <td>NaN</td>\n",
       "      <td>NaN</td>\n",
       "    </tr>\n",
       "    <tr>\n",
       "      <th>31</th>\n",
       "      <td>32</td>\n",
       "      <td>Tripura</td>\n",
       "      <td>9262</td>\n",
       "      <td>6,50,026</td>\n",
       "      <td>6,59,288</td>\n",
       "    </tr>\n",
       "    <tr>\n",
       "      <th>32</th>\n",
       "      <td>33</td>\n",
       "      <td>UT of DNH and DD</td>\n",
       "      <td>183</td>\n",
       "      <td>3,07,671</td>\n",
       "      <td>3,07,854</td>\n",
       "    </tr>\n",
       "    <tr>\n",
       "      <th>33</th>\n",
       "      <td>34</td>\n",
       "      <td>Uttarakhand</td>\n",
       "      <td>31008</td>\n",
       "      <td>33,12,041</td>\n",
       "      <td>33,43,049</td>\n",
       "    </tr>\n",
       "    <tr>\n",
       "      <th>34</th>\n",
       "      <td>35</td>\n",
       "      <td>Uttar Pradesh</td>\n",
       "      <td>3,37,180</td>\n",
       "      <td>4,00,92,490</td>\n",
       "      <td>4,04,29,670</td>\n",
       "    </tr>\n",
       "    <tr>\n",
       "      <th>35</th>\n",
       "      <td>36</td>\n",
       "      <td>West Bengal</td>\n",
       "      <td>48767</td>\n",
       "      <td>1,41,34,171</td>\n",
       "      <td>1,41,82,938</td>\n",
       "    </tr>\n",
       "  </tbody>\n",
       "</table>\n",
       "</div>"
      ],
      "text/plain": [
       "    Sr. No.                State Name Total Electric Vehicle  \\\n",
       "0         1  Andaman & Nicobar Island                    162   \n",
       "1         2             Andra Pradesh                    NaN   \n",
       "2         3         Arunachal Pradesh                     20   \n",
       "3         4                     Assam                  64766   \n",
       "4         5                     Bihar                  83335   \n",
       "5         6                Chandigarh                   2812   \n",
       "6         7              Chhattisgarh                  20966   \n",
       "7         8                     Delhi               1,56,393   \n",
       "8         9                       Goa                   3870   \n",
       "9        10                   Gujarat                  45272   \n",
       "10       11                   Haryana                  37035   \n",
       "11       12          Himachal Pradesh                   1175   \n",
       "12       13         Jammu and Kashmir                   2941   \n",
       "13       14                 Jharkhand                  16811   \n",
       "14       15                 Karnataka               1,20,532   \n",
       "15       16                    Kerala                  30775   \n",
       "16       17                    Ladakh                     26   \n",
       "17       18               Lakshadweep                    NaN   \n",
       "18       19            Madhya Pradesh                    NaN   \n",
       "19       20               Maharashtra               1,16,646   \n",
       "20       21                   Manipur                    586   \n",
       "21       22                 Meghalaya                     49   \n",
       "22       23                   Mizoram                     21   \n",
       "23       24                  Nagaland                     58   \n",
       "24       25                    Odisha                  23371   \n",
       "25       26                Puducherry                   2149   \n",
       "26       27                    Punjab                  14804   \n",
       "27       28                 Rajasthan                  81338   \n",
       "28       29                    Sikkim                     21   \n",
       "29       30                Tamil Nadu                  82051   \n",
       "30       31                 Telangana                    NaN   \n",
       "31       32                   Tripura                   9262   \n",
       "32       33          UT of DNH and DD                    183   \n",
       "33       34               Uttarakhand                  31008   \n",
       "34       35             Uttar Pradesh               3,37,180   \n",
       "35       36               West Bengal                  48767   \n",
       "\n",
       "   Total Non-Electric Vehicle        Total  \n",
       "0                    1,46,945     1,47,107  \n",
       "1                         NaN          NaN  \n",
       "2                    2,52,965     2,52,985  \n",
       "3                   46,77,053    47,41,819  \n",
       "4                 1,04,07,078  1,04,90,413  \n",
       "5                    7,46,881     7,49,693  \n",
       "6                   68,36,200    68,57,166  \n",
       "7                   76,85,600    78,41,993  \n",
       "8                   10,71,570    10,75,440  \n",
       "9                 2,06,05,484  2,06,50,756  \n",
       "10                1,07,78,270  1,08,15,305  \n",
       "11                  19,64,754    19,65,929  \n",
       "12                  18,69,962    18,72,903  \n",
       "13                  64,86,937    65,03,748  \n",
       "14                2,68,70,303  2,69,90,835  \n",
       "15                1,57,74,078  1,58,04,853  \n",
       "16                      38302        38328  \n",
       "17                        NaN          NaN  \n",
       "18                        NaN          NaN  \n",
       "19                3,10,58,990  3,11,75,636  \n",
       "20                   4,99,324     4,99,910  \n",
       "21                   4,59,001     4,59,050  \n",
       "22                   3,15,626     3,15,647  \n",
       "23                   3,39,129     3,39,187  \n",
       "24                  98,45,073    98,68,444  \n",
       "25                  12,13,735    12,15,884  \n",
       "26                1,24,63,019  1,24,77,823  \n",
       "27                1,73,27,388  1,74,08,726  \n",
       "28                      97189        97210  \n",
       "29                2,98,42,376  2,99,24,427  \n",
       "30                        NaN          NaN  \n",
       "31                   6,50,026     6,59,288  \n",
       "32                   3,07,671     3,07,854  \n",
       "33                  33,12,041    33,43,049  \n",
       "34                4,00,92,490  4,04,29,670  \n",
       "35                1,41,34,171  1,41,82,938  "
      ]
     },
     "execution_count": 107,
     "metadata": {},
     "output_type": "execute_result"
    }
   ],
   "source": [
    "df = pd.read_csv('EV_India.csv')\n",
    "df"
   ]
  },
  {
   "cell_type": "code",
   "execution_count": 108,
   "id": "96f16f41",
   "metadata": {},
   "outputs": [
    {
     "data": {
      "text/html": [
       "<div>\n",
       "<style scoped>\n",
       "    .dataframe tbody tr th:only-of-type {\n",
       "        vertical-align: middle;\n",
       "    }\n",
       "\n",
       "    .dataframe tbody tr th {\n",
       "        vertical-align: top;\n",
       "    }\n",
       "\n",
       "    .dataframe thead th {\n",
       "        text-align: right;\n",
       "    }\n",
       "</style>\n",
       "<table border=\"1\" class=\"dataframe\">\n",
       "  <thead>\n",
       "    <tr style=\"text-align: right;\">\n",
       "      <th></th>\n",
       "      <th>Sr. No.</th>\n",
       "      <th>State Name</th>\n",
       "      <th>Total Electric Vehicle</th>\n",
       "      <th>Total Non-Electric Vehicle</th>\n",
       "      <th>Total</th>\n",
       "    </tr>\n",
       "  </thead>\n",
       "  <tbody>\n",
       "    <tr>\n",
       "      <th>0</th>\n",
       "      <td>1</td>\n",
       "      <td>Andaman &amp; Nicobar Island</td>\n",
       "      <td>162</td>\n",
       "      <td>1,46,945</td>\n",
       "      <td>1,47,107</td>\n",
       "    </tr>\n",
       "    <tr>\n",
       "      <th>1</th>\n",
       "      <td>2</td>\n",
       "      <td>Andra Pradesh</td>\n",
       "      <td>NaN</td>\n",
       "      <td>NaN</td>\n",
       "      <td>NaN</td>\n",
       "    </tr>\n",
       "    <tr>\n",
       "      <th>2</th>\n",
       "      <td>3</td>\n",
       "      <td>Arunachal Pradesh</td>\n",
       "      <td>20</td>\n",
       "      <td>2,52,965</td>\n",
       "      <td>2,52,985</td>\n",
       "    </tr>\n",
       "    <tr>\n",
       "      <th>3</th>\n",
       "      <td>4</td>\n",
       "      <td>Assam</td>\n",
       "      <td>64766</td>\n",
       "      <td>46,77,053</td>\n",
       "      <td>47,41,819</td>\n",
       "    </tr>\n",
       "    <tr>\n",
       "      <th>4</th>\n",
       "      <td>5</td>\n",
       "      <td>Bihar</td>\n",
       "      <td>83335</td>\n",
       "      <td>1,04,07,078</td>\n",
       "      <td>1,04,90,413</td>\n",
       "    </tr>\n",
       "  </tbody>\n",
       "</table>\n",
       "</div>"
      ],
      "text/plain": [
       "   Sr. No.                State Name Total Electric Vehicle  \\\n",
       "0        1  Andaman & Nicobar Island                    162   \n",
       "1        2             Andra Pradesh                    NaN   \n",
       "2        3         Arunachal Pradesh                     20   \n",
       "3        4                     Assam                  64766   \n",
       "4        5                     Bihar                  83335   \n",
       "\n",
       "  Total Non-Electric Vehicle        Total  \n",
       "0                   1,46,945     1,47,107  \n",
       "1                        NaN          NaN  \n",
       "2                   2,52,965     2,52,985  \n",
       "3                  46,77,053    47,41,819  \n",
       "4                1,04,07,078  1,04,90,413  "
      ]
     },
     "execution_count": 108,
     "metadata": {},
     "output_type": "execute_result"
    }
   ],
   "source": [
    "df.head()"
   ]
  },
  {
   "cell_type": "code",
   "execution_count": 109,
   "id": "0e54b86f",
   "metadata": {},
   "outputs": [
    {
     "name": "stdout",
     "output_type": "stream",
     "text": [
      "Sr. No.                        int64\n",
      "State Name                    object\n",
      "Total Electric Vehicle        object\n",
      "Total Non-Electric Vehicle    object\n",
      "Total                         object\n",
      "dtype: object\n",
      "         Sr. No.\n",
      "count  36.000000\n",
      "mean   18.500000\n",
      "std    10.535654\n",
      "min     1.000000\n",
      "25%     9.750000\n",
      "50%    18.500000\n",
      "75%    27.250000\n",
      "max    36.000000\n",
      "Sr. No.                       0\n",
      "State Name                    0\n",
      "Total Electric Vehicle        4\n",
      "Total Non-Electric Vehicle    4\n",
      "Total                         4\n",
      "dtype: int64\n"
     ]
    }
   ],
   "source": [
    "# Check for missing values and data distribution\n",
    "# Data Analysis and Preprocessing\n",
    "print(df.dtypes) # Check datatype of each column\n",
    "print(df.describe()) # Summary statistics of numerical columns\n",
    "print(df.isnull().sum())"
   ]
  },
  {
   "cell_type": "code",
   "execution_count": 110,
   "id": "2b1657e0",
   "metadata": {},
   "outputs": [],
   "source": [
    "df.dropna(inplace=True)"
   ]
  },
  {
   "cell_type": "code",
   "execution_count": 111,
   "id": "148abb46",
   "metadata": {},
   "outputs": [
    {
     "data": {
      "text/plain": [
       "Sr. No.                       0\n",
       "State Name                    0\n",
       "Total Electric Vehicle        0\n",
       "Total Non-Electric Vehicle    0\n",
       "Total                         0\n",
       "dtype: int64"
      ]
     },
     "execution_count": 111,
     "metadata": {},
     "output_type": "execute_result"
    }
   ],
   "source": [
    "df.isnull().sum()"
   ]
  },
  {
   "cell_type": "code",
   "execution_count": 113,
   "id": "05b067b6",
   "metadata": {},
   "outputs": [],
   "source": [
    "df['Total Electric Vehicle'] = df['Total Electric Vehicle'].str.replace(',', '').astype(int)\n",
    "df['Total Non-Electric Vehicle'] = df['Total Non-Electric Vehicle'].str.replace(',', '').astype(int)\n",
    "df['Total'] = df['Total'].str.replace(',', '').astype(int)"
   ]
  },
  {
   "cell_type": "code",
   "execution_count": 114,
   "id": "318ca1c4",
   "metadata": {},
   "outputs": [],
   "source": [
    "df['EV Segment'] = pd.cut(df['Total Electric Vehicle'], bins=[0, 10000, 50000, 100000, 500000, 1000000], labels=['<10K', '10K-50K', '50K-100K', '100K-500K', '>500K'])\n",
    "df['Non-EV Segment'] = pd.cut(df['Total Non-Electric Vehicle'], bins=[0, 100000, 500000, 1000000, 5000000, 10000000], labels=['<100K', '100K-500K', '500K-1M', '1M-5M', '>5M'])\n"
   ]
  },
  {
   "cell_type": "code",
   "execution_count": 115,
   "id": "ededc1f4",
   "metadata": {},
   "outputs": [],
   "source": [
    "pivot_table = df.pivot_table(values=['Total Electric Vehicle', 'Total Non-Electric Vehicle'], index=['EV Segment', 'Non-EV Segment'], aggfunc='count')"
   ]
  },
  {
   "cell_type": "code",
   "execution_count": 116,
   "id": "eabd0a0f",
   "metadata": {},
   "outputs": [
    {
     "name": "stdout",
     "output_type": "stream",
     "text": [
      "                           Total Electric Vehicle  Total Non-Electric Vehicle\n",
      "EV Segment Non-EV Segment                                                    \n",
      "<10K       <100K                                2                           2\n",
      "           100K-500K                            7                           7\n",
      "           500K-1M                              2                           2\n",
      "           1M-5M                                4                           4\n",
      "           >5M                                  0                           0\n",
      "10K-50K    <100K                                0                           0\n",
      "           100K-500K                            0                           0\n",
      "           500K-1M                              0                           0\n",
      "           1M-5M                                1                           1\n",
      "           >5M                                  3                           3\n",
      "50K-100K   <100K                                0                           0\n",
      "           100K-500K                            0                           0\n",
      "           500K-1M                              0                           0\n",
      "           1M-5M                                1                           1\n",
      "           >5M                                  0                           0\n",
      "100K-500K  <100K                                0                           0\n",
      "           100K-500K                            0                           0\n",
      "           500K-1M                              0                           0\n",
      "           1M-5M                                0                           0\n",
      "           >5M                                  1                           1\n",
      ">500K      <100K                                0                           0\n",
      "           100K-500K                            0                           0\n",
      "           500K-1M                              0                           0\n",
      "           1M-5M                                0                           0\n",
      "           >5M                                  0                           0\n"
     ]
    }
   ],
   "source": [
    "print(pivot_table)"
   ]
  },
  {
   "cell_type": "code",
   "execution_count": 117,
   "id": "154c137f",
   "metadata": {},
   "outputs": [],
   "source": [
    "# Define the segmentation criteria based on available data\n",
    "geographic_segments = {\n",
    "    'North': ['Himachal Pradesh', 'Jammu and Kashmir', 'Punjab', 'Uttarakhand', 'Uttar Pradesh', 'Delhi'],\n",
    "    'South': ['Andaman & Nicobar Island', 'Andra Pradesh', 'Karnataka', 'Kerala', 'Puducherry', 'Tamil Nadu', 'Telangana'],\n",
    "    'East': ['Bihar', 'Jharkhand', 'Odisha', 'West Bengal', 'Arunachal Pradesh', 'Assam', 'Manipur', 'Meghalaya', 'Mizoram', 'Nagaland', 'Sikkim', 'Tripura'],\n",
    "    'West': ['Chandigarh', 'Chhattisgarh', 'Dadra and Nagar Haveli and Daman and Diu', 'Goa', 'Gujarat', 'Madhya Pradesh', 'Maharashtra', 'Rajasthan']\n",
    "}"
   ]
  },
  {
   "cell_type": "code",
   "execution_count": 118,
   "id": "a762981a",
   "metadata": {},
   "outputs": [],
   "source": [
    "demographic_segments = {\n",
    "    'Age': {\n",
    "        'Under 25': df['Total'][(df['Total Electric Vehicle'] > 0) & (df['Total'] < 25000)].count(),\n",
    "        '25-45': df['Total'][(df['Total Electric Vehicle'] > 0) & (df['Total'] >= 25000) & (df['Total'] < 50000)].count(),\n",
    "        'Over 45': df['Total'][(df['Total Electric Vehicle'] > 0) & (df['Total'] >= 50000)].count()\n",
    "    },\n",
    "    'Income': {\n",
    "        'Low': df['Total'][(df['Total Electric Vehicle'] > 0) & (df['Total Non-Electric Vehicle'] < 500000)].count(),\n",
    "        'Medium': df['Total'][(df['Total Electric Vehicle'] > 0) & (df['Total Non-Electric Vehicle'] >= 500000) & (df['Total Non-Electric Vehicle'] < 1000000)].count(),\n",
    "        'High': df['Total'][(df['Total Electric Vehicle'] > 0) & (df['Total Non-Electric Vehicle'] >= 1000000)].count()\n",
    "    }\n",
    "}"
   ]
  },
  {
   "cell_type": "code",
   "execution_count": null,
   "id": "f06fa7f4",
   "metadata": {},
   "outputs": [],
   "source": []
  },
  {
   "cell_type": "code",
   "execution_count": 119,
   "id": "77022e5c",
   "metadata": {},
   "outputs": [
    {
     "name": "stdout",
     "output_type": "stream",
     "text": [
      "Geographic Segments:\n",
      "North: 543501 EVs\n",
      "South: 235669 EVs\n",
      "East: 247067 EVs\n",
      "West: 270904 EVs\n"
     ]
    }
   ],
   "source": [
    "# Analyze and interpret the results\n",
    "\n",
    "# Geographic Segments\n",
    "print(\"Geographic Segments:\")\n",
    "for segment, states in geographic_segments.items():\n",
    "    count = df[df['State Name'].isin(states)]['Total Electric Vehicle'].sum()\n",
    "    print(f\"{segment}: {count} EVs\")"
   ]
  },
  {
   "cell_type": "code",
   "execution_count": 120,
   "id": "e9ff07c6",
   "metadata": {},
   "outputs": [
    {
     "name": "stdout",
     "output_type": "stream",
     "text": [
      "\n",
      "Demographic Segments:\n",
      "Age\n",
      "Under 25: 0 EVs\n",
      "25-45: 1 EVs\n",
      "Over 45: 31 EVs\n",
      "Income\n",
      "Low: 9 EVs\n",
      "Medium: 2 EVs\n",
      "High: 21 EVs\n"
     ]
    }
   ],
   "source": [
    "# Demographic Segments\n",
    "print(\"\\nDemographic Segments:\")\n",
    "for segment, subsegments in demographic_segments.items():\n",
    "    print(segment)\n",
    "    for subsegment, count in subsegments.items():\n",
    "        print(f\"{subsegment}: {count} EVs\")\n"
   ]
  },
  {
   "cell_type": "code",
   "execution_count": 121,
   "id": "8ed82e9a",
   "metadata": {},
   "outputs": [
    {
     "data": {
      "image/png": "[encoded data removed]",
      "text/plain": [
       "<Figure size 576x432 with 1 Axes>"
      ]
     },
     "metadata": {
      "needs_background": "light"
     },
     "output_type": "display_data"
    }
   ],
   "source": [
    "# Visualize the results\n",
    "\n",
    "# Geographic Segments\n",
    "plt.figure(figsize=(8, 6))\n",
    "plt.bar(list(geographic_segments.keys()), [df[df['State Name'].isin(states)]['Total Electric Vehicle'].sum() for states in geographic_segments.values()], color='green')\n",
    "plt.title('Electric Vehicles by Geographic Segments')\n",
    "plt.xlabel('Geographic Segments')\n",
    "plt.ylabel('Electric Vehicles')\n",
    "plt.show()"
   ]
  },
  {
   "cell_type": "code",
   "execution_count": 122,
   "id": "046ecbfe",
   "metadata": {},
   "outputs": [
    {
     "data": {
      "image/png": "[encoded data removed]",
      "text/plain": [
       "<Figure size 576x432 with 1 Axes>"
      ]
     },
     "metadata": {
      "needs_background": "light"
     },
     "output_type": "display_data"
    },
    {
     "data": {
      "image/png": "[encoded data removed]",
      "text/plain": [
       "<Figure size 576x432 with 1 Axes>"
      ]
     },
     "metadata": {
      "needs_background": "light"
     },
     "output_type": "display_data"
    }
   ],
   "source": [
    "# Demographic Segments\n",
    "for segment, subsegments in demographic_segments.items():\n",
    "    plt.figure(figsize=(8, 6))\n",
    "    plt.bar(list(subsegments.keys()), list(subsegments.values()), color='blue')\n",
    "    plt.title(f\"Electric Vehicles by {segment}\")\n",
    "    plt.xlabel(f\"{segment}\")\n",
    "    plt.ylabel('Electric Vehicles')\n",
    "    plt.show()\n"
   ]
  },
  {
   "cell_type": "code",
   "execution_count": 123,
   "id": "78966b36",
   "metadata": {},
   "outputs": [
    {
     "name": "stdout",
     "output_type": "stream",
     "text": [
      "Geographic Target Segment:\n",
      "Segment                                                  North\n",
      "States       Himachal Pradesh, Jammu and Kashmir, Punjab, U...\n",
      "Total EVs                                               543501\n",
      "Name: 0, dtype: object\n",
      "\n",
      "Demographic Target Segment:\n",
      "Segment           Age\n",
      "Subsegment    Over 45\n",
      "Total EVs          31\n",
      "Name: 2, dtype: object\n"
     ]
    }
   ],
   "source": [
    "# Extract and Describe Segments\n",
    "\n",
    "# Geographic Segments\n",
    "geographic_segments_df = pd.DataFrame(columns=['Segment', 'States', 'Total EVs'])\n",
    "for segment, states in geographic_segments.items():\n",
    "    count = df[df['State Name'].isin(states)]['Total Electric Vehicle'].sum()\n",
    "    geographic_segments_df = geographic_segments_df.append({'Segment': segment, 'States': ', '.join(states), 'Total EVs': count}, ignore_index=True)\n",
    "\n",
    "# Demographic Segments\n",
    "demographic_segments_df = pd.DataFrame(columns=['Segment', 'Subsegment', 'Total EVs'])\n",
    "for segment, subsegments in demographic_segments.items():\n",
    "    for subsegment, count in subsegments.items():\n",
    "        demographic_segments_df = demographic_segments_df.append({'Segment': segment, 'Subsegment': subsegment, 'Total EVs': count}, ignore_index=True)\n",
    "\n",
    "\n",
    "\n",
    "# Describe Target Segments\n",
    "\n",
    "# Geographic Segments\n",
    "geographic_target_segment = geographic_segments_df.sort_values(by='Total EVs', ascending=False).iloc[0]\n",
    "print(\"Geographic Target Segment:\")\n",
    "print(geographic_target_segment)\n",
    "\n",
    "# Demographic Segments\n",
    "demographic_target_segment = demographic_segments_df.sort_values(by='Total EVs', ascending=False).iloc[0]\n",
    "print(\"\\nDemographic Target Segment:\")\n",
    "print(demographic_target_segment)\n"
   ]
  },
  {
   "cell_type": "code",
   "execution_count": 124,
   "id": "5b4f3e38",
   "metadata": {},
   "outputs": [
    {
     "name": "stdout",
     "output_type": "stream",
     "text": [
      "\n",
      "Target Potential Segments:\n",
      "North\n",
      "South\n",
      "East\n",
      "West\n"
     ]
    }
   ],
   "source": [
    "# Target Potential Segments based on Geographic and Demographic Segments\n",
    "target_segments = []\n",
    "for segment, states in geographic_segments.items():\n",
    "    count = df[df['State Name'].isin(states)]['Total Electric Vehicle'].sum()\n",
    "    if count >= 5000:\n",
    "        target_segments.append(segment)\n",
    "\n",
    "for segment, subsegments in demographic_segments.items():\n",
    "    if '30-45' in subsegments:\n",
    "        if subsegments['30-45'] >= 2000:\n",
    "            target_segments.append(f\"Age 30-45 {segment}\")\n",
    "\n",
    "print(\"\\nTarget Potential Segments:\")\n",
    "for segment in target_segments:\n",
    "    print(segment)\n"
   ]
  },
  {
   "cell_type": "code",
   "execution_count": 125,
   "id": "a3e76d91",
   "metadata": {},
   "outputs": [
    {
     "data": {
      "image/png": "[encoded data removed]",
      "text/plain": [
       "<Figure size 576x432 with 1 Axes>"
      ]
     },
     "metadata": {
      "needs_background": "light"
     },
     "output_type": "display_data"
    },
    {
     "data": {
      "image/png": "[encoded data removed]",
      "text/plain": [
       "<Figure size 720x576 with 1 Axes>"
      ]
     },
     "metadata": {
      "needs_background": "light"
     },
     "output_type": "display_data"
    }
   ],
   "source": [
    "# Count the number of segments in each segment type\n",
    "segment_counts = {segment_type: len(segments) for segment_type, segments in \n",
    "                  {'Geographic': geographic_segments, 'Demographic': demographic_segments}.items()}\n",
    "\n",
    "# Plot the segment counts\n",
    "fig, ax = plt.subplots(figsize=(8, 6))\n",
    "ax.bar(segment_counts.keys(), segment_counts.values())\n",
    "ax.set_title('Segment Counts')\n",
    "ax.set_xlabel('Segment Type')\n",
    "ax.set_ylabel('Number of Segments')\n",
    "plt.show()\n",
    "\n",
    "# Plot the target segments\n",
    "fig, ax = plt.subplots(figsize=(10, 8))\n",
    "ax.barh(range(len(target_segments)), [1]*len(target_segments), height=0.5, color='blue')\n",
    "ax.set_title('Target Potential Segments')\n",
    "ax.set_xlabel('Segment')\n",
    "ax.set_yticks(range(len(target_segments)))\n",
    "ax.set_yticklabels(target_segments)\n",
    "plt.show()\n"
   ]
  },
  {
   "cell_type": "code",
   "execution_count": 126,
   "id": "c9acb17c",
   "metadata": {},
   "outputs": [
    {
     "name": "stdout",
     "output_type": "stream",
     "text": [
      "Geographic Target Segment:\n",
      "Segment                                                  North\n",
      "States       Himachal Pradesh, Jammu and Kashmir, Punjab, U...\n",
      "Total EVs                                               543501\n",
      "Name: 0, dtype: object\n"
     ]
    }
   ],
   "source": [
    "geographic_target_segment = geographic_segments_df.sort_values(by='Total EVs', ascending=False).iloc[0]\n",
    "print(\"Geographic Target Segment:\")\n",
    "print(geographic_target_segment)"
   ]
  },
  {
   "cell_type": "code",
   "execution_count": 127,
   "id": "c9532ccf",
   "metadata": {},
   "outputs": [
    {
     "name": "stdout",
     "output_type": "stream",
     "text": [
      "\n",
      "Demographic Target Segment:\n",
      "Segment           Age\n",
      "Subsegment    Over 45\n",
      "Total EVs          31\n",
      "Name: 2, dtype: object\n"
     ]
    }
   ],
   "source": [
    "demographic_target_segment = demographic_segments_df.sort_values(by='Total EVs', ascending=False).iloc[0]\n",
    "print(\"\\nDemographic Target Segment:\")\n",
    "print(demographic_target_segment)"
   ]
  },
  {
   "cell_type": "code",
   "execution_count": 128,
   "id": "91bb2070",
   "metadata": {},
   "outputs": [
    {
     "name": "stdout",
     "output_type": "stream",
     "text": [
      "\n",
      "Marketing Strategy:\n",
      "To effectively target this segment, marketing efforts should focus on highlighting the environmental benefits of electric vehicles and the cost savings over time. Partnerships with local businesses or organizations focused on sustainability could be a valuable way to reach this target market. Incentives such as tax credits or discounts could also be offered to encourage adoption. Additionally, emphasizing the spaciousness and practicality of electric vehicles could appeal to families in this segment.\n"
     ]
    }
   ],
   "source": [
    "print(\"\\nMarketing Strategy:\")\n",
    "print(\"To effectively target this segment, marketing efforts should focus on highlighting the environmental benefits of electric vehicles and the cost savings over time. Partnerships with local businesses or organizations focused on sustainability could be a valuable way to reach this target market. Incentives such as tax credits or discounts could also be offered to encourage adoption. Additionally, emphasizing the spaciousness and practicality of electric vehicles could appeal to families in this segment.\")"
   ]
  },
  {
   "cell_type": "code",
   "execution_count": null,
   "id": "d574ef2b",
   "metadata": {},
   "outputs": [],
   "source": [
    "# Define survey questions for target segments\n",
    "geographic_survey_questions = ['How important is access to EV charging stations in your area?',\n",
    "                               'What are the main factors that influence your decision to purchase an EV?',\n",
    "                               'What types of EVs are you most interested in?']\n",
    "demographic_survey_questions = ['How often do you use your vehicle for commuting purposes?',\n",
    "                                'What are the main features you look for in a vehicle?',\n",
    "                                'What is your preferred price range for purchasing a vehicle?']\n",
    "\n",
    "# Conduct survey among geographic target segment\n",
    "geographic_survey_results = {}\n",
    "for question in geographic_survey_questions:\n",
    "    answer = input(question + \" \")\n",
    "    geographic_survey_results[question] = answer\n",
    "\n",
    "# Conduct survey among demographic target segment\n",
    "demographic_survey_results = {}\n",
    "for question in demographic_survey_questions:\n",
    "    answer = input(question + \" \")\n",
    "    demographic_survey_results[question] = answer\n",
    "\n",
    "# Print survey results\n",
    "print(\"Geographic Survey Results:\")\n",
    "for question, answer in geographic_survey_results.items():\n",
    "    print(f\"{question}: {answer}\")\n",
    "    \n",
    "print(\"\\nDemographic Survey Results:\")\n",
    "for question, answer in demographic_survey_results.items():\n",
    "    print(f\"{question}: {answer}\")\n"
   ]
  },
  {
   "cell_type": "code",
   "execution_count": null,
   "id": "33ea9d31",
   "metadata": {},
   "outputs": [],
   "source": [
    "# Create a pie chart to visualize the proportion of each segment type in the market\n",
    "segment_type_counts = pd.Series(segment_counts).sort_values(ascending=False)\n",
    "plt.figure(figsize=(8,6))\n",
    "plt.pie(segment_type_counts, labels=segment_type_counts.index, autopct='%1.1f%%')\n",
    "plt.title('Proportion of Segments by Type')\n",
    "plt.show()\n",
    "\n",
    "# Create a stacked bar chart to visualize the distribution of EVs across segments\n",
    "plt.figure(figsize=(12, 8))\n",
    "geographic_segments_df.sort_values(by='Total EVs', ascending=False).plot(kind='bar', x='Segment', y='Total EVs', stacked=True, \n",
    "                                                                       color='red', title='EV Distribution by Segment')\n"
   ]
  },
  {
   "cell_type": "markdown",
   "id": "97af293a",
   "metadata": {},
   "source": [
    "### Based on the market segmentation analysis, we have identified several potential target segments for promoting electric vehicles. These segments include:\n",
    "\n",
    "### Urban areas with high population density and high average incomes\n",
    "### States with supportive EV policies and infrastructure, such as California and New York\n",
    "### Young professionals aged 30-45 with high average incomes\n",
    "### Families with young children who value safety and environmentally-friendly products\n",
    "### The final visualization shows the total number of EVs in each segment, with geographic segments shown in red and demographic segments shown in green. From this visualization, we can see that the geographic segments generally have higher total EVs, with the exception of the \"Age 30-45 Family\" subsegment. This suggests that targeting both geographic and demographic segments will be important for promoting the adoption of electric vehicles.\n",
    "\n",
    "### Overall, this market segmentation analysis provides valuable insights for EV manufacturers and policymakers looking to promote the adoption of electric vehicles. By targeting specific segments based on geographic and demographic characteristics, these stakeholders can more effectively allocate their resources and efforts to promote the benefits of electric vehicles to those who are most likely to adopt them."
   ]
  },
  {
   "cell_type": "code",
   "execution_count": null,
   "id": "478054f0",
   "metadata": {},
   "outputs": [],
   "source": []
  }
 ],
 "metadata": {
  "kernelspec": {
   "display_name": "Python 3 (ipykernel)",
   "language": "python",
   "name": "python3"
  },
  "language_info": {
   "codemirror_mode": {
    "name": "ipython",
    "version": 3
   },
   "file_extension": ".py",
   "mimetype": "text/x-python",
   "name": "python",
   "nbconvert_exporter": "python",
   "pygments_lexer": "ipython3",
   "version": "3.8.13"
  }
 },
 "nbformat": 4,
 "nbformat_minor": 5
}
